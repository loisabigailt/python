{
 "cells": [
  {
   "cell_type": "markdown",
   "metadata": {},
   "source": [
    "195026 \\\n",
    "To \\\n",
    "2 BS ITE"
   ]
  },
  {
   "cell_type": "code",
   "execution_count": 17,
   "metadata": {},
   "outputs": [],
   "source": [
    "def dollars_to_peso(usd):\n",
    "    php = usd * 50\n",
    "    return php"
   ]
  },
  {
   "cell_type": "code",
   "execution_count": null,
   "metadata": {},
   "outputs": [],
   "source": [
    "usd = float(input(\"Enter the amount in US dollars: \"))\n",
    "final = dollars_to_peso(usd)\n",
    "print(usd, \"US dollar(s)=\",final,\"Philippine Pesos\")"
   ]
  },
  {
   "cell_type": "code",
   "execution_count": null,
   "metadata": {},
   "outputs": [],
   "source": [
    "while True: \n",
    "    a = int(input(\"Enter the first integer: \"))\n",
    "    if a >= 0: \n",
    "        a = int(a)\n",
    "        break\n",
    "    else: \n",
    "        print(\"Please put a positive integer\")\n",
    "while True: \n",
    "    b = int(input(\"Enter the second integer: \"))\n",
    "    if b >= 0: \n",
    "        b = int(b)\n",
    "        break\n",
    "    else: \n",
    "        print(\"Please put a positive integer\")\n",
    "        \n",
    "print(a + b)\n",
    "print(a-b)\n",
    "print(a*b)\n",
    "print(a//b)\n",
    "print(a%b)"
   ]
  },
  {
   "cell_type": "code",
   "execution_count": 7,
   "metadata": {},
   "outputs": [],
   "source": [
    "def convert_cm_to_m(cm):\n",
    "    meter = cm * 0.01\n",
    "    return meter\n",
    "\n",
    "def compute_bmi(kg,cm):\n",
    "    bmi = kg/meter**2\n",
    "    return bmi"
   ]
  },
  {
   "cell_type": "code",
   "execution_count": null,
   "metadata": {},
   "outputs": [],
   "source": [
    "kg = float(input(\"Enter kg \"))\n",
    "cm = float(input(\"Enter cm \"))\n",
    "meter = convert_cm_to_m(cm)\n",
    "final = compute_bmi(kg,cm)\n",
    "print(\"BMI:\" , final)"
   ]
  },
  {
   "cell_type": "code",
   "execution_count": null,
   "metadata": {},
   "outputs": [],
   "source": []
  }
 ],
 "metadata": {
  "kernelspec": {
   "display_name": "Python 3",
   "language": "python",
   "name": "python3"
  },
  "language_info": {
   "codemirror_mode": {
    "name": "ipython",
    "version": 3
   },
   "file_extension": ".py",
   "mimetype": "text/x-python",
   "name": "python",
   "nbconvert_exporter": "python",
   "pygments_lexer": "ipython3",
   "version": "3.8.3"
  }
 },
 "nbformat": 4,
 "nbformat_minor": 4
}
