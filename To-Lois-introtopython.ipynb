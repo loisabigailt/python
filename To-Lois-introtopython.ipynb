{
 "cells": [
  {
   "cell_type": "markdown",
   "metadata": {},
   "source": [
    "195026 \\\n",
    "To \\\n",
    "2 BS ITE \n"
   ]
  },
  {
   "cell_type": "code",
   "execution_count": 2,
   "metadata": {},
   "outputs": [],
   "source": [
    "def three_number_average(first,second,third):\n",
    "    average = (first + second + third)/3 \n",
    "    return average"
   ]
  },
  {
   "cell_type": "code",
   "execution_count": null,
   "metadata": {},
   "outputs": [],
   "source": [
    "while True: \n",
    "    first = int(input(\"Enter first number: \"))\n",
    "    if first >= 0: \n",
    "        first = int(first)\n",
    "        break\n",
    "    else: \n",
    "        print(\"Please put a positive integer\")\n",
    "while True: \n",
    "    second = int(input(\"Enter second number: \"))\n",
    "    if second >= 0: \n",
    "        second = int(second)\n",
    "        break\n",
    "    else: \n",
    "        print(\"Please put a positive integer\")\n",
    "while True: \n",
    "    third = int(input(\"Enter third number: \"))\n",
    "    if third >= 0: \n",
    "        third = int(third)\n",
    "        break\n",
    "    else: \n",
    "        print(\"Please put a positive integer\")\n",
    "average = three_number_average(first,second,third)\n",
    "print(\"The average is \",average)"
   ]
  },
  {
   "cell_type": "code",
   "execution_count": null,
   "metadata": {},
   "outputs": [],
   "source": []
  }
 ],
 "metadata": {
  "kernelspec": {
   "display_name": "Python 3",
   "language": "python",
   "name": "python3"
  },
  "language_info": {
   "codemirror_mode": {
    "name": "ipython",
    "version": 3
   },
   "file_extension": ".py",
   "mimetype": "text/x-python",
   "name": "python",
   "nbconvert_exporter": "python",
   "pygments_lexer": "ipython3",
   "version": "3.8.3"
  }
 },
 "nbformat": 4,
 "nbformat_minor": 4
}
